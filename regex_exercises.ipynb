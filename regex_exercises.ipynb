{
 "cells": [
  {
   "cell_type": "code",
   "execution_count": 14,
   "id": "c2b05e59",
   "metadata": {},
   "outputs": [],
   "source": [
    "import pandas as pd\n",
    "import numpy as np\n",
    "\n",
    "import re"
   ]
  },
  {
   "cell_type": "markdown",
   "id": "63932d08",
   "metadata": {},
   "source": [
    "### Write a function named is_vowel. It should accept a string as input and use a regular expression to determine if the passed string is a vowel. While not explicity mentioned in the lesson, you can treat the result of re.search as a boolean value that indicates whether or not the regular expression matches the given string."
   ]
  },
  {
   "cell_type": "code",
   "execution_count": 33,
   "id": "9d19002d",
   "metadata": {},
   "outputs": [
    {
     "data": {
      "text/plain": [
       "False"
      ]
     },
     "execution_count": 33,
     "metadata": {},
     "output_type": "execute_result"
    }
   ],
   "source": [
    "regexp = r'^[aeiou]$'\n",
    "\n",
    "bool(re.search(regexp, 'aaa'))"
   ]
  },
  {
   "cell_type": "code",
   "execution_count": 28,
   "id": "8586e032",
   "metadata": {},
   "outputs": [
    {
     "data": {
      "text/plain": [
       "False"
      ]
     },
     "execution_count": 28,
     "metadata": {},
     "output_type": "execute_result"
    }
   ],
   "source": [
    "bool(re.search(regexp, 'bcd'))"
   ]
  },
  {
   "cell_type": "code",
   "execution_count": 29,
   "id": "105dba4b",
   "metadata": {},
   "outputs": [
    {
     "name": "stdout",
     "output_type": "stream",
     "text": [
      "false\n"
     ]
    }
   ],
   "source": [
    "if re.search(regexp, 'bcd'):\n",
    "    print('true')\n",
    "else:\n",
    "    print('false')"
   ]
  },
  {
   "cell_type": "code",
   "execution_count": 63,
   "id": "d8a32935",
   "metadata": {},
   "outputs": [],
   "source": [
    "def is_vowel(x):\n",
    "    regexp = r'^[aeiou]$'\n",
    "\n",
    "#     match = re.search(regexp, x, re.IGNORECASE)\n",
    "#     if match:\n",
    "#         return match.group()\n",
    "\n",
    "    if re.search(regexp, x, re.IGNORECASE):\n",
    "        return True\n",
    "    else:\n",
    "        return False"
   ]
  },
  {
   "cell_type": "code",
   "execution_count": 64,
   "id": "d8aef272",
   "metadata": {},
   "outputs": [
    {
     "data": {
      "text/plain": [
       "True"
      ]
     },
     "execution_count": 64,
     "metadata": {},
     "output_type": "execute_result"
    }
   ],
   "source": [
    "is_vowel('a')"
   ]
  },
  {
   "cell_type": "code",
   "execution_count": 65,
   "id": "0833ae6b",
   "metadata": {},
   "outputs": [
    {
     "data": {
      "text/plain": [
       "False"
      ]
     },
     "execution_count": 65,
     "metadata": {},
     "output_type": "execute_result"
    }
   ],
   "source": [
    "is_vowel('abcde')"
   ]
  },
  {
   "cell_type": "code",
   "execution_count": 66,
   "id": "25810d4d",
   "metadata": {},
   "outputs": [
    {
     "data": {
      "text/plain": [
       "False"
      ]
     },
     "execution_count": 66,
     "metadata": {},
     "output_type": "execute_result"
    }
   ],
   "source": [
    "is_vowel('dog')"
   ]
  },
  {
   "cell_type": "code",
   "execution_count": 67,
   "id": "8074a498",
   "metadata": {},
   "outputs": [
    {
     "data": {
      "text/plain": [
       "True"
      ]
     },
     "execution_count": 67,
     "metadata": {},
     "output_type": "execute_result"
    }
   ],
   "source": [
    "is_vowel('I')"
   ]
  },
  {
   "cell_type": "markdown",
   "id": "b77d03e6",
   "metadata": {},
   "source": [
    "### Write a function named is_valid_username that accepts a string as input. A valid username starts with a lowercase letter, and only consists of lowercase letters, numbers, or the _ character. It should also be no longer than 32 characters. The function should return either True or False depending on whether the passed string is a valid username."
   ]
  },
  {
   "cell_type": "markdown",
   "id": "33954686",
   "metadata": {},
   "source": [
    "is_valid_username('aaaaaaaaaaaaaaaaaaaaaaaaaaaaaaaaa')\n",
    "- False\n",
    "\n",
    "is_valid_username('codeup')\n",
    "- True\n",
    "\n",
    "is_valid_username('Codeup')\n",
    "- False\n",
    "\n",
    "is_valid_username('codeup123')\n",
    "- True\n",
    "\n",
    "is_valid_username('1codeup')\n",
    "- False"
   ]
  },
  {
   "cell_type": "code",
   "execution_count": 159,
   "id": "6a887e85",
   "metadata": {},
   "outputs": [],
   "source": [
    "def is_valid_username(x):\n",
    "    regexp = r'^[a-z]\\w{,31}$'\n",
    "    \n",
    "    if re.search(regexp, x):\n",
    "        return True\n",
    "    else:\n",
    "        return False"
   ]
  },
  {
   "cell_type": "code",
   "execution_count": 160,
   "id": "20a260a4",
   "metadata": {},
   "outputs": [
    {
     "data": {
      "text/plain": [
       "33"
      ]
     },
     "execution_count": 160,
     "metadata": {},
     "output_type": "execute_result"
    }
   ],
   "source": [
    "len('aaaaaaaaaaaaaaaaaaaaaaaaaaaaaaaaa')"
   ]
  },
  {
   "cell_type": "code",
   "execution_count": 161,
   "id": "14857a9e",
   "metadata": {},
   "outputs": [
    {
     "data": {
      "text/plain": [
       "True"
      ]
     },
     "execution_count": 161,
     "metadata": {},
     "output_type": "execute_result"
    }
   ],
   "source": [
    "is_valid_username('aaaaaaaaaaaaaaaaaaaaaaaaaaaaaaaa')"
   ]
  },
  {
   "cell_type": "code",
   "execution_count": 162,
   "id": "5d0a3d77",
   "metadata": {},
   "outputs": [
    {
     "data": {
      "text/plain": [
       "True"
      ]
     },
     "execution_count": 162,
     "metadata": {},
     "output_type": "execute_result"
    }
   ],
   "source": [
    "is_valid_username('codeup')"
   ]
  },
  {
   "cell_type": "code",
   "execution_count": 163,
   "id": "8e78a65b",
   "metadata": {},
   "outputs": [
    {
     "data": {
      "text/plain": [
       "False"
      ]
     },
     "execution_count": 163,
     "metadata": {},
     "output_type": "execute_result"
    }
   ],
   "source": [
    "is_valid_username('code up')"
   ]
  },
  {
   "cell_type": "code",
   "execution_count": 164,
   "id": "44d59c9c",
   "metadata": {},
   "outputs": [
    {
     "data": {
      "text/plain": [
       "False"
      ]
     },
     "execution_count": 164,
     "metadata": {},
     "output_type": "execute_result"
    }
   ],
   "source": [
    "is_valid_username('Codeup')"
   ]
  },
  {
   "cell_type": "code",
   "execution_count": 165,
   "id": "3b6f4f27",
   "metadata": {},
   "outputs": [
    {
     "data": {
      "text/plain": [
       "True"
      ]
     },
     "execution_count": 165,
     "metadata": {},
     "output_type": "execute_result"
    }
   ],
   "source": [
    "is_valid_username('codeup123')"
   ]
  },
  {
   "cell_type": "code",
   "execution_count": 166,
   "id": "0dc24e67",
   "metadata": {},
   "outputs": [
    {
     "data": {
      "text/plain": [
       "True"
      ]
     },
     "execution_count": 166,
     "metadata": {},
     "output_type": "execute_result"
    }
   ],
   "source": [
    "is_valid_username('codeup_123')"
   ]
  },
  {
   "cell_type": "code",
   "execution_count": 167,
   "id": "44c87403",
   "metadata": {},
   "outputs": [
    {
     "data": {
      "text/plain": [
       "False"
      ]
     },
     "execution_count": 167,
     "metadata": {},
     "output_type": "execute_result"
    }
   ],
   "source": [
    "is_valid_username('1codeup')"
   ]
  },
  {
   "cell_type": "markdown",
   "id": "90a5c0fe",
   "metadata": {},
   "source": [
    "### Write a regular expression to capture phone numbers. It should match all of the following:"
   ]
  },
  {
   "cell_type": "code",
   "execution_count": 205,
   "id": "be36d6ef",
   "metadata": {},
   "outputs": [],
   "source": [
    "numbers = ['(210) 867 5309',\n",
    "'+1 210.867.5309',\n",
    "'867-5309',\n",
    "'210-867-5309',\n",
    "'abc']"
   ]
  },
  {
   "cell_type": "code",
   "execution_count": 206,
   "id": "b7b64b21",
   "metadata": {},
   "outputs": [
    {
     "name": "stdout",
     "output_type": "stream",
     "text": [
      "['(210) 867 5309']\n",
      "['+1 210.867.5309']\n",
      "['867-5309']\n",
      "['210-867-5309']\n",
      "[]\n"
     ]
    }
   ],
   "source": [
    "regexp = r'.*?\\d+\\D*?\\d+.\\d+$'\n",
    "\n",
    "for number in numbers:\n",
    "    print(re.findall(regexp, number))"
   ]
  },
  {
   "cell_type": "code",
   "execution_count": 207,
   "id": "8e0e3583",
   "metadata": {},
   "outputs": [
    {
     "name": "stdout",
     "output_type": "stream",
     "text": [
      "(210) 867 5309 is a phone number\n",
      "+1 210.867.5309 is a phone number\n",
      "867-5309 is a phone number\n",
      "210-867-5309 is a phone number\n",
      "abc isn't a phone number\n"
     ]
    }
   ],
   "source": [
    "regexp = r'.*?\\d+\\D*?\\d+.\\d+$'\n",
    "\n",
    "for number in numbers:\n",
    "    if re.search(regexp, number):\n",
    "        print(f'{number} is a phone number')\n",
    "    else:\n",
    "        print(f\"{number} isn't a phone number\")"
   ]
  },
  {
   "cell_type": "markdown",
   "id": "4098c2c2",
   "metadata": {},
   "source": [
    "### Use regular expressions to convert the dates below to the standardized year-month-day format."
   ]
  },
  {
   "cell_type": "code",
   "execution_count": 208,
   "id": "175fce0a",
   "metadata": {},
   "outputs": [],
   "source": [
    "dates = [\"02/04/19\",\n",
    "             \"02/05/19\",\n",
    "             \"02/06/19\",\n",
    "             \"02/07/19\",\n",
    "             \"02/08/19\",\n",
    "             \"02/09/19\",\n",
    "             \"02/10/19\",\n",
    "            ]"
   ]
  },
  {
   "cell_type": "code",
   "execution_count": 221,
   "id": "95779700",
   "metadata": {},
   "outputs": [
    {
     "name": "stdout",
     "output_type": "stream",
     "text": [
      "2019-02-04\n",
      "2019-02-05\n",
      "2019-02-06\n",
      "2019-02-07\n",
      "2019-02-08\n",
      "2019-02-09\n",
      "2019-02-10\n"
     ]
    }
   ],
   "source": [
    "regexp = r'(\\d{2})/(\\d{2})/(\\d{2})'\n",
    "\n",
    "for date in dates:\n",
    "#     print(re.findall(regexp,date))\n",
    "    print(re.sub(regexp, r'20\\3-\\1-\\2' ,date))"
   ]
  },
  {
   "cell_type": "markdown",
   "id": "ed9e5386",
   "metadata": {},
   "source": [
    "### Write a regex to extract the various parts of these logfile lines:"
   ]
  },
  {
   "cell_type": "code",
   "execution_count": 222,
   "id": "8ebd2774",
   "metadata": {},
   "outputs": [],
   "source": [
    "logs = '''\n",
    "GET /api/v1/sales?page=86 [16/Apr/2019:193452+0000] HTTP/1.1 {200} 510348 \"python-requests/2.21.0\" 97.105.19.58\n",
    "POST /users_accounts/file-upload [16/Apr/2019:193452+0000] HTTP/1.1 {201} 42 \"User-Agent: Mozilla/5.0 (X11; Fedora; Fedora; Linux x86_64) AppleWebKit/537.36 (KHTML, like Gecko) Chrome/73.0.3683.86 Safari/537.36\" 97.105.19.58\n",
    "GET /api/v1/items?page=3 [16/Apr/2019:193453+0000] HTTP/1.1 {429} 3561 \"python-requests/2.21.0\" 97.105.19.58\n",
    "'''"
   ]
  },
  {
   "cell_type": "code",
   "execution_count": 231,
   "id": "1b9de309",
   "metadata": {},
   "outputs": [
    {
     "data": {
      "text/plain": [
       "['GET /api/v1/sales?page=86 [16/Apr/2019:193452+0000] HTTP/1.1 {200} 510348 \"python-requests/2.21.0\" 97.105.19.58',\n",
       " 'POST /users_accounts/file-upload [16/Apr/2019:193452+0000] HTTP/1.1 {201} 42 \"User-Agent: Mozilla/5.0 (X11; Fedora; Fedora; Linux x86_64) AppleWebKit/537.36 (KHTML, like Gecko) Chrome/73.0.3683.86 Safari/537.36\" 97.105.19.58',\n",
       " 'GET /api/v1/items?page=3 [16/Apr/2019:193453+0000] HTTP/1.1 {429} 3561 \"python-requests/2.21.0\" 97.105.19.58']"
      ]
     },
     "execution_count": 231,
     "metadata": {},
     "output_type": "execute_result"
    }
   ],
   "source": [
    "logs = logs.strip().split('\\n')\n",
    "logs"
   ]
  },
  {
   "cell_type": "code",
   "execution_count": 232,
   "id": "4d529542",
   "metadata": {},
   "outputs": [
    {
     "data": {
      "text/plain": [
       "'GET /api/v1/sales?page=86 [16/Apr/2019:193452+0000] HTTP/1.1 {200} 510348 \"python-requests/2.21.0\" 97.105.19.58'"
      ]
     },
     "execution_count": 232,
     "metadata": {},
     "output_type": "execute_result"
    }
   ],
   "source": [
    "logs[0]"
   ]
  },
  {
   "cell_type": "code",
   "execution_count": 264,
   "id": "a5b9dadd",
   "metadata": {},
   "outputs": [
    {
     "data": {
      "text/plain": [
       "[('GET',\n",
       "  '/api/v1/sales?page=86',\n",
       "  '16/Apr/2019',\n",
       "  'HTTP/1.1',\n",
       "  '200',\n",
       "  '510348',\n",
       "  'python-requests/2.21.0',\n",
       "  '97.105.19.58')]"
      ]
     },
     "execution_count": 264,
     "metadata": {},
     "output_type": "execute_result"
    }
   ],
   "source": [
    "regexp = r'(\\w+)\\s(.*?)\\s\\[(.*?)\\:.*?\\s(.*?)\\s\\{(\\d+)\\}\\s(\\d+)\\s\"(.*?)\"\\s(.*)'\n",
    "\n",
    "re.findall(regexp, logs[0])"
   ]
  },
  {
   "cell_type": "code",
   "execution_count": 277,
   "id": "dfc125dd",
   "metadata": {},
   "outputs": [
    {
     "data": {
      "text/plain": [
       "{'method_request': 'GET',\n",
       " 'path': '/api/v1/sales?page=86',\n",
       " 'date': '16/Apr/2019',\n",
       " 'http_version': 'HTTP/1.1',\n",
       " 'response_code': '200',\n",
       " 'size_bytes': '510348',\n",
       " 'user_agent': 'python-requests/2.21.0',\n",
       " 'ip_address': '97.105.19.58'}"
      ]
     },
     "execution_count": 277,
     "metadata": {},
     "output_type": "execute_result"
    }
   ],
   "source": [
    "regexp = r'''\n",
    "        (?P<method_request>\\w+)\\s\n",
    "        (?P<path>.*?)\\s\\[\n",
    "        (?P<date>.*?)\\:.*?\\s\n",
    "        (?P<http_version>.*?)\\s\\{\n",
    "        (?P<response_code>\\d+)\\}\\s\n",
    "        (?P<size_bytes>\\d+)\\s\"\n",
    "        (?P<user_agent>.*?)\"\\s\n",
    "        (?P<ip_address>.*)\n",
    "        '''\n",
    "re.search(regexp, logs[0], re.VERBOSE).groupdict()"
   ]
  },
  {
   "cell_type": "code",
   "execution_count": 280,
   "id": "aafe3ef1",
   "metadata": {},
   "outputs": [
    {
     "data": {
      "text/plain": [
       "[{'method_request': 'GET',\n",
       "  'path': '/api/v1/sales?page=86',\n",
       "  'date': '16/Apr/2019',\n",
       "  'http_version': 'HTTP/1.1',\n",
       "  'response_code': '200',\n",
       "  'size_bytes': '510348',\n",
       "  'user_agent': 'python-requests/2.21.0',\n",
       "  'ip_address': '97.105.19.58'},\n",
       " {'method_request': 'POST',\n",
       "  'path': '/users_accounts/file-upload',\n",
       "  'date': '16/Apr/2019',\n",
       "  'http_version': 'HTTP/1.1',\n",
       "  'response_code': '201',\n",
       "  'size_bytes': '42',\n",
       "  'user_agent': 'User-Agent: Mozilla/5.0 (X11; Fedora; Fedora; Linux x86_64) AppleWebKit/537.36 (KHTML, like Gecko) Chrome/73.0.3683.86 Safari/537.36',\n",
       "  'ip_address': '97.105.19.58'},\n",
       " {'method_request': 'GET',\n",
       "  'path': '/api/v1/items?page=3',\n",
       "  'date': '16/Apr/2019',\n",
       "  'http_version': 'HTTP/1.1',\n",
       "  'response_code': '429',\n",
       "  'size_bytes': '3561',\n",
       "  'user_agent': 'python-requests/2.21.0',\n",
       "  'ip_address': '97.105.19.58'}]"
      ]
     },
     "execution_count": 280,
     "metadata": {},
     "output_type": "execute_result"
    }
   ],
   "source": [
    "logs_parsed = [re.search(regexp, log, re.VERBOSE).groupdict() for log in logs]\n",
    "logs_parsed"
   ]
  },
  {
   "cell_type": "code",
   "execution_count": 282,
   "id": "dba1128f",
   "metadata": {},
   "outputs": [
    {
     "data": {
      "text/html": [
       "<div>\n",
       "<style scoped>\n",
       "    .dataframe tbody tr th:only-of-type {\n",
       "        vertical-align: middle;\n",
       "    }\n",
       "\n",
       "    .dataframe tbody tr th {\n",
       "        vertical-align: top;\n",
       "    }\n",
       "\n",
       "    .dataframe thead th {\n",
       "        text-align: right;\n",
       "    }\n",
       "</style>\n",
       "<table border=\"1\" class=\"dataframe\">\n",
       "  <thead>\n",
       "    <tr style=\"text-align: right;\">\n",
       "      <th></th>\n",
       "      <th>method_request</th>\n",
       "      <th>path</th>\n",
       "      <th>date</th>\n",
       "      <th>http_version</th>\n",
       "      <th>response_code</th>\n",
       "      <th>size_bytes</th>\n",
       "      <th>user_agent</th>\n",
       "      <th>ip_address</th>\n",
       "    </tr>\n",
       "  </thead>\n",
       "  <tbody>\n",
       "    <tr>\n",
       "      <th>0</th>\n",
       "      <td>GET</td>\n",
       "      <td>/api/v1/sales?page=86</td>\n",
       "      <td>16/Apr/2019</td>\n",
       "      <td>HTTP/1.1</td>\n",
       "      <td>200</td>\n",
       "      <td>510348</td>\n",
       "      <td>python-requests/2.21.0</td>\n",
       "      <td>97.105.19.58</td>\n",
       "    </tr>\n",
       "    <tr>\n",
       "      <th>1</th>\n",
       "      <td>POST</td>\n",
       "      <td>/users_accounts/file-upload</td>\n",
       "      <td>16/Apr/2019</td>\n",
       "      <td>HTTP/1.1</td>\n",
       "      <td>201</td>\n",
       "      <td>42</td>\n",
       "      <td>User-Agent: Mozilla/5.0 (X11; Fedora; Fedora; ...</td>\n",
       "      <td>97.105.19.58</td>\n",
       "    </tr>\n",
       "    <tr>\n",
       "      <th>2</th>\n",
       "      <td>GET</td>\n",
       "      <td>/api/v1/items?page=3</td>\n",
       "      <td>16/Apr/2019</td>\n",
       "      <td>HTTP/1.1</td>\n",
       "      <td>429</td>\n",
       "      <td>3561</td>\n",
       "      <td>python-requests/2.21.0</td>\n",
       "      <td>97.105.19.58</td>\n",
       "    </tr>\n",
       "  </tbody>\n",
       "</table>\n",
       "</div>"
      ],
      "text/plain": [
       "  method_request                         path         date http_version  \\\n",
       "0            GET        /api/v1/sales?page=86  16/Apr/2019     HTTP/1.1   \n",
       "1           POST  /users_accounts/file-upload  16/Apr/2019     HTTP/1.1   \n",
       "2            GET         /api/v1/items?page=3  16/Apr/2019     HTTP/1.1   \n",
       "\n",
       "  response_code size_bytes                                         user_agent  \\\n",
       "0           200     510348                             python-requests/2.21.0   \n",
       "1           201         42  User-Agent: Mozilla/5.0 (X11; Fedora; Fedora; ...   \n",
       "2           429       3561                             python-requests/2.21.0   \n",
       "\n",
       "     ip_address  \n",
       "0  97.105.19.58  \n",
       "1  97.105.19.58  \n",
       "2  97.105.19.58  "
      ]
     },
     "execution_count": 282,
     "metadata": {},
     "output_type": "execute_result"
    }
   ],
   "source": [
    "pd.DataFrame(logs_parsed)"
   ]
  },
  {
   "cell_type": "markdown",
   "id": "cb6f07e1",
   "metadata": {},
   "source": [
    "## Bonus Exercise"
   ]
  },
  {
   "cell_type": "markdown",
   "id": "93c781f4",
   "metadata": {},
   "source": [
    "### You can find a list of words on your mac at /usr/share/dict/words. Use this file to answer the following questions:"
   ]
  },
  {
   "cell_type": "code",
   "execution_count": 283,
   "id": "c3b79a59",
   "metadata": {},
   "outputs": [],
   "source": [
    "f = open(\"/usr/share/dict/words\", \"r\")\n",
    "words = f.read()"
   ]
  },
  {
   "cell_type": "code",
   "execution_count": 284,
   "id": "159bcbf3",
   "metadata": {},
   "outputs": [],
   "source": [
    "words = words.split('\\n')"
   ]
  },
  {
   "cell_type": "code",
   "execution_count": 12,
   "id": "1cf313ea",
   "metadata": {},
   "outputs": [
    {
     "data": {
      "text/plain": [
       "235887"
      ]
     },
     "execution_count": 12,
     "metadata": {},
     "output_type": "execute_result"
    }
   ],
   "source": [
    "len(words)"
   ]
  },
  {
   "cell_type": "code",
   "execution_count": null,
   "id": "dbc3e354",
   "metadata": {},
   "outputs": [],
   "source": []
  }
 ],
 "metadata": {
  "kernelspec": {
   "display_name": "Python 3 (ipykernel)",
   "language": "python",
   "name": "python3"
  },
  "language_info": {
   "codemirror_mode": {
    "name": "ipython",
    "version": 3
   },
   "file_extension": ".py",
   "mimetype": "text/x-python",
   "name": "python",
   "nbconvert_exporter": "python",
   "pygments_lexer": "ipython3",
   "version": "3.9.12"
  }
 },
 "nbformat": 4,
 "nbformat_minor": 5
}
